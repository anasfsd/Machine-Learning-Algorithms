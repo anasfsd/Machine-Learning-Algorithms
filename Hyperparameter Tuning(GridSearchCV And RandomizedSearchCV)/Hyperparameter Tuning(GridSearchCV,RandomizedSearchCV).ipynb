{
 "cells": [
  {
   "cell_type": "code",
   "execution_count": 5,
   "id": "df13bae1-bfd3-48dc-8f10-038c3723e6c7",
   "metadata": {},
   "outputs": [],
   "source": [
    "import pandas as pd"
   ]
  },
  {
   "cell_type": "code",
   "execution_count": null,
   "id": "72332885-b120-482b-a7e5-c9559c1320e6",
   "metadata": {},
   "outputs": [],
   "source": [
    "dataset=pd.read_csv(\"polynomial.csv\")"
   ]
  },
  {
   "cell_type": "code",
   "execution_count": null,
   "id": "bc0d8203-ec6b-446c-90fe-2536a984b4e6",
   "metadata": {},
   "outputs": [],
   "source": [
    "dataset.head()"
   ]
  },
  {
   "cell_type": "code",
   "execution_count": null,
   "id": "4817daec-1c64-4e5a-80b6-4367bfa5e54b",
   "metadata": {},
   "outputs": [],
   "source": [
    "x=dataset.iloc[:,:-1}\n",
    "y=dataset.iloc[\"Salary\"]"
   ]
  },
  {
   "cell_type": "code",
   "execution_count": null,
   "id": "204930e5-ff5b-4179-ac2f-36f8fdfed9d9",
   "metadata": {},
   "outputs": [],
   "source": [
    "from sklearn.model_selection import train_test_split"
   ]
  },
  {
   "cell_type": "code",
   "execution_count": null,
   "id": "1a810163-7ce4-43f6-8ccf-5447ec2c91a7",
   "metadata": {},
   "outputs": [],
   "source": [
    "x_train,x_test,y_train,y_test=train_test_split(x,y,test_size=0.2,random_state=42)"
   ]
  },
  {
   "cell_type": "code",
   "execution_count": null,
   "id": "ea28215a-63ab-441f-bae6-b301d7a13ad8",
   "metadata": {},
   "outputs": [],
   "source": [
    "from sklearn.tree import DecisionTreeRegressor"
   ]
  },
  {
   "cell_type": "code",
   "execution_count": null,
   "id": "a0ba7dd1-879a-4ceb-8ea7-9138fd979c45",
   "metadata": {},
   "outputs": [],
   "source": [
    "dt=DecisionTreeRegressor(criterion=\"\",splitter=\"\",max_depth=10)\n",
    "dt.fit(x_train,y_train)"
   ]
  },
  {
   "cell_type": "code",
   "execution_count": null,
   "id": "e4735289-ceb4-4bf1-9d0a-5e7167d5f527",
   "metadata": {},
   "outputs": [],
   "source": [
    "dt.score(x_train,y_train)*100,dt.score(x_test,y_test)*100"
   ]
  },
  {
   "cell_type": "code",
   "execution_count": null,
   "id": "e120cac2-693a-45bc-8da0-bba0748a7eb8",
   "metadata": {},
   "outputs": [],
   "source": []
  },
  {
   "cell_type": "code",
   "execution_count": null,
   "id": "b98ea667-8579-48f7-a0de-b95e95ccccb8",
   "metadata": {},
   "outputs": [],
   "source": [
    "from sklearn.model_selection import GridSearchCV,RandomizedSearchCV"
   ]
  },
  {
   "cell_type": "code",
   "execution_count": null,
   "id": "0cb8074a-db17-454a-a3f0-ea9240a668b7",
   "metadata": {},
   "outputs": [],
   "source": [
    "df={\"criterion\":[\"squared_error\", \"friedman_mse\", \"absolute_error\",\"poisson\"],\n",
    "    \"splitter\":[\"best\",\"random\"],\n",
    "    \"max_depth\":[i for i in range(2,20)]}"
   ]
  },
  {
   "cell_type": "code",
   "execution_count": null,
   "id": "9ab52269-98e1-460a-8b86-5c05fbbfae9f",
   "metadata": {},
   "outputs": [],
   "source": [
    "gd=GridSearchCV (DecisionTreeRegressor(),param_grid=df)#param_grid and param_distributions same ha\n",
    "gd.fit(x_train,y_train)"
   ]
  },
  {
   "cell_type": "code",
   "execution_count": null,
   "id": "2260ded2-5c1b-4a48-98c9-bc2b05ed9bd8",
   "metadata": {},
   "outputs": [],
   "source": []
  },
  {
   "cell_type": "code",
   "execution_count": null,
   "id": "f63fe367-efd4-4202-a115-a42e5b9e3d94",
   "metadata": {},
   "outputs": [],
   "source": [
    "gd.best_params_ #then they tell us"
   ]
  },
  {
   "cell_type": "code",
   "execution_count": null,
   "id": "f266840c-add5-4061-b4e4-9ad87affca4f",
   "metadata": {},
   "outputs": [],
   "source": []
  },
  {
   "cell_type": "code",
   "execution_count": null,
   "id": "bdcc6bac-ceba-4a7f-b9da-4588d3c2f6b1",
   "metadata": {},
   "outputs": [],
   "source": [
    "gd.best_score_"
   ]
  },
  {
   "cell_type": "code",
   "execution_count": null,
   "id": "afccd5f6-6e96-41c5-b087-08a7af223a14",
   "metadata": {},
   "outputs": [],
   "source": []
  },
  {
   "cell_type": "code",
   "execution_count": null,
   "id": "5fecb0f7-727a-4baf-92a5-e2bc02f3f623",
   "metadata": {},
   "outputs": [],
   "source": []
  },
  {
   "cell_type": "code",
   "execution_count": null,
   "id": "97370272-c832-410c-8fd8-e643e26af6fc",
   "metadata": {},
   "outputs": [],
   "source": []
  },
  {
   "cell_type": "code",
   "execution_count": null,
   "id": "98328a3d-382b-4711-ad0d-f5ba67fab8d5",
   "metadata": {},
   "outputs": [],
   "source": [
    "rd=RandomizedSearchCV (DecisionTreeRegressor(),param_distributions=df,n_iter=20)#ya 20 model ko pick kar raha\n",
    "rd.fit(x_train,y_train)"
   ]
  },
  {
   "cell_type": "code",
   "execution_count": null,
   "id": "6dd1e668-a12a-4e78-ac39-90ab4037f95e",
   "metadata": {},
   "outputs": [],
   "source": [
    "gd.best_params_ #then they tell us"
   ]
  },
  {
   "cell_type": "code",
   "execution_count": null,
   "id": "152f04d4-8cc7-4c18-b95b-49513d42686c",
   "metadata": {},
   "outputs": [],
   "source": [
    "rd.best_score_"
   ]
  }
 ],
 "metadata": {
  "kernelspec": {
   "display_name": "Python 3 (ipykernel)",
   "language": "python",
   "name": "python3"
  },
  "language_info": {
   "codemirror_mode": {
    "name": "ipython",
    "version": 3
   },
   "file_extension": ".py",
   "mimetype": "text/x-python",
   "name": "python",
   "nbconvert_exporter": "python",
   "pygments_lexer": "ipython3",
   "version": "3.11.7"
  }
 },
 "nbformat": 4,
 "nbformat_minor": 5
}
